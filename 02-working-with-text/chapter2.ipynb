{
 "cells": [
  {
   "cell_type": "code",
   "execution_count": null,
   "id": "cbafb550-fdda-4eb3-b49b-b39f80c98cc7",
   "metadata": {},
   "outputs": [],
   "source": [
    "# Read the sample file and print a few things based on what was read\n",
    "with open(\"the-verdict.txt\", \"r\", encoding=\"utf-8\") as f:\n",
    "    raw_text = f.read()\n",
    "print(\"Total number of character:\", len(raw_text))\n",
    "print(raw_text[:99])"
   ]
  },
  {
   "cell_type": "code",
   "execution_count": null,
   "id": "09c640f0-2120-4cf0-9257-4134075204d7",
   "metadata": {},
   "outputs": [],
   "source": [
    "# tokenize based on whitespace\n",
    "\n",
    "import re\n",
    "text = \"Hello, world. This, is a test.\"\n",
    "result = re.split(r'(\\s)', text)\n",
    "print(result)"
   ]
  },
  {
   "cell_type": "code",
   "execution_count": null,
   "id": "1d02b7fb-1ea3-497e-94e4-8fa78406c67f",
   "metadata": {},
   "outputs": [],
   "source": [
    "# Include punctuation as tokens\n",
    "result = re.split(r'([,.]|\\s)', text)\n",
    "print(result)"
   ]
  },
  {
   "cell_type": "code",
   "execution_count": null,
   "id": "b5c7eb4f-435b-4db6-a511-943dbdbd7eaf",
   "metadata": {},
   "outputs": [],
   "source": [
    "# Now remove the spaces - note for some models we'll keep the spaces as they can be significat, e.g. python syntax\n",
    "result = [item for item in result if item.strip()]\n",
    "print(result)"
   ]
  },
  {
   "cell_type": "code",
   "execution_count": null,
   "id": "e0c77f06-acaf-45e6-b041-ca3cfdd97711",
   "metadata": {},
   "outputs": [],
   "source": [
    "# Expand to include addition punctuation, etc\n",
    "\n",
    "text = \"Hello, world. Is this-- a test?\"\n",
    "result = re.split(r'([,.:;?_!\"()\\']|--|\\s)', text)\n",
    "result = [item.strip() for item in result if item.strip()]\n",
    "print(result)"
   ]
  },
  {
   "cell_type": "code",
   "execution_count": null,
   "id": "dea2e592-5501-46de-8c29-1c237b067292",
   "metadata": {},
   "outputs": [],
   "source": [
    "# tokenize the example text\n",
    "preprocessed = re.split(r'([,.:;?_!\"()\\']|--|\\s)', raw_text)\n",
    "preprocessed = [item.strip() for item in preprocessed if item.strip()]\n",
    "print(len(preprocessed))"
   ]
  },
  {
   "cell_type": "code",
   "execution_count": null,
   "id": "2296cbb5-7a80-480a-9db4-908574a9b77c",
   "metadata": {},
   "outputs": [],
   "source": [
    "print(preprocessed[:30])"
   ]
  },
  {
   "cell_type": "markdown",
   "id": "b2fb9cd5-5a14-4f3d-a146-601aecd8bb7f",
   "metadata": {},
   "source": [
    "### Building a vocabulary\n",
    "\n",
    "A vocabulary defines how we map each word and special character to a unique identifier. To build a vocabulary we tokenize the entire dataset, sort it, and remove duplicates."
   ]
  },
  {
   "cell_type": "code",
   "execution_count": null,
   "id": "d930f87f-e87e-4d22-91ea-7058e60862d1",
   "metadata": {},
   "outputs": [],
   "source": [
    "# Remove duplicates and sort the tokens from our tokenized dataset\n",
    "all_words = sorted(set(preprocessed))\n",
    "vocab_size = len(all_words)\n",
    "print(vocab_size)"
   ]
  },
  {
   "cell_type": "code",
   "execution_count": null,
   "id": "ce716da5-a1e5-485a-b2d8-890049c62633",
   "metadata": {},
   "outputs": [],
   "source": [
    "# Create the vocabulary from the sorted/deduplicated tokens\n",
    "vocab = {token:integer for integer,token in enumerate(all_words)}\n",
    "for i, item in enumerate(vocab.items()):\n",
    "    print(item)\n",
    "    if i >= 50:\n",
    "        break"
   ]
  },
  {
   "cell_type": "code",
   "execution_count": null,
   "id": "9098937a-b0af-41fd-8a04-438976ea46ef",
   "metadata": {},
   "outputs": [],
   "source": [
    "enumerate(all_words)"
   ]
  },
  {
   "cell_type": "markdown",
   "id": "88e00aec-e9c0-4315-8f5e-3a60100f2a84",
   "metadata": {},
   "source": [
    "Note in addition to mapping tokens to integers, we want to take the output of LLMs and map integer output to tokens"
   ]
  },
  {
   "cell_type": "code",
   "execution_count": null,
   "id": "c37b0930-ac03-4aff-b7b9-56fe4b2fe972",
   "metadata": {},
   "outputs": [],
   "source": [
    "# Simple tokenizer class\n",
    "class SimpleTokenizerV1:\n",
    "    def __init__(self, vocab):\n",
    "        self.str_to_int = vocab\n",
    "        self.int_to_str = {i:s for s,i in vocab.items()}\n",
    "\n",
    "    def encode(self, text):\n",
    "        preprocessed = re.split(r'([,.?_!\"()\\']|--|\\s)', text)\n",
    "        preprocessed = [\n",
    "            item.strip() for item in preprocessed if item.strip()\n",
    "        ]\n",
    "        ids = [self.str_to_int[s] for s in preprocessed]\n",
    "        return ids\n",
    "\n",
    "    def decode(self, ids):\n",
    "        text = \" \".join([self.int_to_str[i] for i in ids]) \n",
    "\n",
    "        text = re.sub(r'\\s+([,.?!\"()\\'])', r'\\1', text)\n",
    "        return text"
   ]
  },
  {
   "cell_type": "code",
   "execution_count": null,
   "id": "b729e1c9-957c-4add-9117-5df1349a9472",
   "metadata": {},
   "outputs": [],
   "source": [
    "tokenizer = SimpleTokenizerV1(vocab)\n",
    "text = \"\"\"\"It's the last he painted, you know,\" \n",
    "       Mrs. Gisburn said with pardonable pride.\"\"\"\n",
    "ids = tokenizer.encode(text)\n",
    "print(ids)"
   ]
  },
  {
   "cell_type": "code",
   "execution_count": null,
   "id": "0029fdf7-4fe0-4079-948c-388d115bd5d7",
   "metadata": {},
   "outputs": [],
   "source": [
    "print(tokenizer.decode(ids))"
   ]
  },
  {
   "cell_type": "code",
   "execution_count": null,
   "id": "58ff34dc-5d2e-42da-85d5-a2593ccc4396",
   "metadata": {},
   "outputs": [],
   "source": [
    "# What if the token is not in the vocab? We get a KeyError. Having a large dataset can mitigate this somewhat...\n",
    "text = \"Hello, do you like tea?\"\n",
    "print(tokenizer.encode(text))"
   ]
  },
  {
   "cell_type": "code",
   "execution_count": null,
   "id": "d6424c0f-1fd3-4bf2-b916-8f78258c7e61",
   "metadata": {},
   "outputs": [],
   "source": []
  }
 ],
 "metadata": {
  "kernelspec": {
   "display_name": "Python 3 (ipykernel)",
   "language": "python",
   "name": "python3"
  },
  "language_info": {
   "codemirror_mode": {
    "name": "ipython",
    "version": 3
   },
   "file_extension": ".py",
   "mimetype": "text/x-python",
   "name": "python",
   "nbconvert_exporter": "python",
   "pygments_lexer": "ipython3",
   "version": "3.8.10"
  }
 },
 "nbformat": 4,
 "nbformat_minor": 5
}
